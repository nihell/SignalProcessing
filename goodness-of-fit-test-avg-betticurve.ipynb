{
 "cells": [
  {
   "cell_type": "code",
   "execution_count": 1,
   "metadata": {},
   "outputs": [],
   "source": [
    "import pandas as pd\n",
    "import numpy as np\n",
    "import gudhi as gd\n",
    "from gudhi.weighted_rips_complex import WeightedRipsComplex\n",
    "from gudhi.point_cloud.timedelay import TimeDelayEmbedding\n",
    "from gudhi.point_cloud.dtm import DistanceToMeasure\n",
    "from gudhi.hera import wasserstein_distance\n",
    "from gudhi.representations import PersistenceImage, BettiCurve\n",
    "from sklearn.decomposition import PCA\n",
    "from sklearn.metrics import pairwise_distances\n",
    "from joblib import Parallel, delayed\n",
    "from gudhi.representations.metrics import WassersteinDistance\n",
    "import matplotlib.pyplot as plt\n",
    "from matplotlib import cm\n",
    "from sklearn.manifold import MDS\n",
    "import os\n",
    "from scipy import stats\n",
    "from scipy.spatial.distance import cdist\n",
    "from scipy.spatial.distance import pdist\n",
    "from scipy import signal\n",
    "from scipy.stats import levy_stable\n",
    "from symulacja_py import impsim\n",
    "from tqdm.notebook import tqdm \n",
    "#%matplotlib widget"
   ]
  },
  {
   "cell_type": "code",
   "execution_count": 2,
   "metadata": {},
   "outputs": [],
   "source": [
    "def create_signal(alpha, impulse_amplitude, seed):\n",
    "    fs = 25000\n",
    "    fmod = 30\n",
    "    f_center = 5000\n",
    "    bandwidth = 1500\n",
    "    shift = 0\n",
    "\n",
    "    amp_imp = impulse_amplitude\n",
    "    alfa = alpha\n",
    "    skala = 0.5\n",
    "\n",
    "    varsize = 2*fs\n",
    "    tt_ts = np.linspace(1/fs,varsize/fs,varsize)\n",
    "    #szum = np.random.normal(0,skala,varsize) #szum Gaussowski\n",
    "\n",
    "    szum = levy_stable.rvs(alfa,0,0,skala,varsize, random_state=seed)  #szum alfa-stabilny\n",
    "\n",
    "    signal_l = 9*impsim(fs,varsize,fmod,amp_imp,f_center,bandwidth,shift)+szum\n",
    "    return signal_l\n"
   ]
  },
  {
   "cell_type": "code",
   "execution_count": 3,
   "metadata": {},
   "outputs": [],
   "source": [
    "#generate data under null, i.e. only noise\n",
    "alphas = np.linspace(1.1,2,19)\n",
    "\n",
    "amplitude = 0\n",
    "mc_iterations = 10000\n",
    "avg_bcs = []\n",
    "acc_threshs = np.zeros_like(alphas, dtype = float)\n",
    "\n",
    "dim = 3*833#417# half period\n",
    "delay = 50000//dim\n",
    "#print(\"delay\", delay)\n",
    "skip = 1#200#0#100\n",
    "#print(dim*delay)\n",
    "#print(len(data[0])/24)\n",
    "\n",
    "#start = min([np.min(d) for d in pds])-0.005\n",
    "#end = max([np.max(d) for d in pds])+0.005\n",
    "#print(start,end)\n",
    "start = 2.98\n",
    "end = 3.7\n",
    "grid = np.linspace(start,end,10000)\n",
    "\n",
    "\n",
    "def generate_data_compute_bc(alpha, amplitude, seed, dim, delay, skip, normalize = True, weighted = True):\n",
    "    data = create_signal(alpha, amplitude, seed)\n",
    "    #dim * delay should roughly equal len(time_series)/numer_of_periods\n",
    "    dim = 3*833#417# half period\n",
    "    delay = len(data)//dim\n",
    "    #print(\"delay\", delay)\n",
    "    skip = 1#200#0#100\n",
    "    #print(dim*delay)\n",
    "    #print(len(data[0])/24)\n",
    "\n",
    "    #print(\"===============computing SWE====================\")\n",
    "    tde = TimeDelayEmbedding(dim = dim, delay=delay, skip=skip)\n",
    "    point_clouds = tde.transform([data])[0]\n",
    "    #point_clouds = levy_stable.rvs(alpha,0,0, size=(100,2))\n",
    "\n",
    "    if (normalize):\n",
    "        point_clouds = point_clouds-np.mean(point_clouds,1)[:, None]\n",
    "        point_clouds = point_clouds/np.sqrt(np.sum(point_clouds**2, 1))[:, None]\n",
    "\n",
    "    pc = point_clouds\n",
    "    if weighted:\n",
    "        dist = cdist(pc,pc)\n",
    "        dtm = DistanceToMeasure(5, dim = 10, q=2, metric=\"precomputed\")\n",
    "        r = dtm.fit_transform(dist)\n",
    "        ac = WeightedRipsComplex(distance_matrix=dist,weights = 1/r)\n",
    "    else:\n",
    "        ac = gd.RipsComplex(points=pc)\n",
    "    \n",
    "    st = ac.create_simplex_tree(max_dimension = 2)\n",
    "    st.compute_persistence()\n",
    "    pd = st.persistence_intervals_in_dimension(1)\n",
    "\n",
    "    bc = BettiCurve(predefined_grid=grid)\n",
    "    betti_curve = bc.fit_transform([pd])\n",
    "    return betti_curve[0]\n",
    "    "
   ]
  },
  {
   "cell_type": "code",
   "execution_count": null,
   "metadata": {},
   "outputs": [
    {
     "data": {
      "application/vnd.jupyter.widget-view+json": {
       "model_id": "d7e5674d6e814dbf869406f45eb01579",
       "version_major": 2,
       "version_minor": 0
      },
      "text/plain": [
       "  0%|          | 0/19 [00:00<?, ?it/s]"
      ]
     },
     "metadata": {},
     "output_type": "display_data"
    }
   ],
   "source": [
    "metric = \"max\"\n",
    "avg_bcs=[]\n",
    "for i in tqdm(range(0,len(alphas))):\n",
    "    alpha=alphas[i]\n",
    "    betti_curves = Parallel(n_jobs=-1)(delayed(generate_data_compute_bc)(alpha, 0, k, dim, delay, skip) for k in range(0,mc_iterations))\n",
    "    avg_bc = np.mean(betti_curves, axis=0)\n",
    "    avg_bcs.append(avg_bc)\n",
    "    new_betti_curves = Parallel(n_jobs=-1)(delayed(generate_data_compute_bc)(alpha, 0, mc_iterations+k, dim, delay, skip) for k in range(0,mc_iterations))\n",
    "    if metric == \"l1\":\n",
    "        acc_thresh = np.quantile(pairwise_distances([avg_bc],new_betti_curves, \"minkowski\", p=1, n_jobs=-1)[0],0.95)\n",
    "    elif metric == \"max\":\n",
    "        acc_thresh = np.quantile(pairwise_distances([avg_bc],new_betti_curves, \"chebyshev\",n_jobs=-1)[0],0.95)\n",
    "    acc_threshs[i] = acc_thresh\n"
   ]
  },
  {
   "cell_type": "code",
   "execution_count": null,
   "metadata": {},
   "outputs": [],
   "source": [
    "amplitudes = np.linspace(0,2,21)\n",
    "test_powers_alpha = np.zeros((len(alphas),len(amplitudes)), dtype=float)\n",
    "for j in tqdm(range(0,len(amplitudes))):\n",
    "    for i in tqdm(range(0,len(alphas))):\n",
    "        amp = amplitudes[j]\n",
    "        alpha=alphas[i]\n",
    "        #print(\"alpha = \",alpha,\", amp = \", amp)\n",
    "        seed = int(2*mc_iterations*(amp+1))\n",
    "        test_betti_curves = Parallel(n_jobs=-1)(delayed(generate_data_compute_bc)(alpha, amp, seed+k, dim, delay, skip) for k in range(0,mc_iterations))\n",
    "        if metric == \"l1\":\n",
    "            dists = pairwise_distances([avg_bcs[i]],test_betti_curves, \"minkowski\",p=1,n_jobs=-1)[0]\n",
    "        elif metric == \"max\":\n",
    "            dists = pairwise_distances([avg_bcs[i]],test_betti_curves, \"chebyshev\",n_jobs=-1)[0]\n",
    "        #print(\"computing test power\")\n",
    "        power = np.sum(dists>acc_threshs[i])/mc_iterations\n",
    "        test_powers_alpha[i][j] =power\n",
    "    #powers.append(power)"
   ]
  },
  {
   "cell_type": "code",
   "execution_count": null,
   "metadata": {},
   "outputs": [],
   "source": [
    "f,ax = plt.subplots(figsize = (21,19))\n",
    "ax.imshow(test_powers_alpha)\n",
    "\n",
    "ax.set_xticks(range(0,len(amplitudes)), labels=np.round(amplitudes,1))\n",
    "ax.set_yticks(range(0,len(alphas)), labels = np.round(alphas,2))\n",
    "\n",
    "ax.set_xlabel(\"amplitude\")\n",
    "ax.set_ylabel(\"alpha\")\n",
    "\n",
    "plt.setp(ax.get_xticklabels(), rotation=90, ha=\"right\",\n",
    "         rotation_mode=\"anchor\")\n",
    "\n",
    "# Loop over data dimensions and create text annotations.\n",
    "for i in range(len(alphas)):\n",
    "    for j in range(len(amplitudes)):\n",
    "        text = ax.text(j, i, test_powers_alpha[i][j],\n",
    "                       ha=\"center\", va=\"center\", color=\"w\")\n",
    "\n",
    "\n",
    "#ax.scatter(np.linspace(0,20,21), 19*(-1.1+(1.7/((0.1*np.linspace(0,20,21))**(0.2)))), color=\"red\")\n",
    "plt.title(\"Test power\")\n",
    "plt.savefig(\"GoF-test-powers.pdf\")\n",
    "plt.show()"
   ]
  },
  {
   "cell_type": "code",
   "execution_count": null,
   "metadata": {},
   "outputs": [
    {
     "name": "stdout",
     "output_type": "stream",
     "text": [
      "0.0375\n",
      "[0]\n"
     ]
    }
   ],
   "source": [
    "#np.savetxt(\"test_powers_alpha1.1-2_amplitude0-2.txt\",np.array(test_powers_alpha))\n",
    "#print(np.log(2/1.7)/np.log(0.5))\n",
    "#print(np.log(1.5/1.7)/np.log(2))#\n",
    "#np.sum(cdist([avg_bcs[k]],betti_curves, \"chebyshev\")[0]>acc_thresh)/2000\n",
    "print(power)\n",
    "print(test_powers)\n",
    "#print((1.7**5)*(alphas**(-5)))"
   ]
  }
 ],
 "metadata": {
  "kernelspec": {
   "display_name": "Python 3 (ipykernel)",
   "language": "python",
   "name": "python3"
  },
  "language_info": {
   "codemirror_mode": {
    "name": "ipython",
    "version": 3
   },
   "file_extension": ".py",
   "mimetype": "text/x-python",
   "name": "python",
   "nbconvert_exporter": "python",
   "pygments_lexer": "ipython3",
   "version": "3.9.13"
  },
  "vscode": {
   "interpreter": {
    "hash": "8a50179734eafd7be2c39c7de9ca3515f8df9a59616ddd2c4e8ada80159aec33"
   }
  }
 },
 "nbformat": 4,
 "nbformat_minor": 2
}
